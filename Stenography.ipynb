{
  "nbformat": 4,
  "nbformat_minor": 0,
  "metadata": {
    "colab": {
      "provenance": []
    },
    "kernelspec": {
      "name": "python3",
      "display_name": "Python 3"
    },
    "language_info": {
      "name": "python"
    }
  },
  "cells": [
    {
      "cell_type": "code",
      "execution_count": null,
      "metadata": {
        "id": "kJkhsdoIVkK1"
      },
      "outputs": [],
      "source": [
        "import numpy as np"
      ]
    },
    {
      "cell_type": "code",
      "source": [
        "#create ASCII mapping dictionaries\n",
        "d = {chr(i):i for i in range (256)} # char ti int (ASCII value)\n",
        "c = {i: chr(i) for i in range(256)} # int to char"
      ],
      "metadata": {
        "id": "u6kwNnfIWR0l"
      },
      "execution_count": null,
      "outputs": []
    },
    {
      "cell_type": "code",
      "source": [
        "# Message and encryption key\n",
        "text = \"HELLO\"\n",
        "key = \"KEY\""
      ],
      "metadata": {
        "id": "-8f0IpDFXs_P"
      },
      "execution_count": null,
      "outputs": []
    },
    {
      "cell_type": "code",
      "source": [
        "# Create a dummy 10x10 RGB image with random pixel values\n",
        "x = np.random.randint(0, 256, (10, 10, 3), dtype=np.uint8)"
      ],
      "metadata": {
        "id": "7cVlqNuuXxnF"
      },
      "execution_count": null,
      "outputs": []
    },
    {
      "cell_type": "code",
      "source": [
        "x_enc = x.copy()"
      ],
      "metadata": {
        "id": "UJ5y8NasX5mO"
      },
      "execution_count": null,
      "outputs": []
    },
    {
      "cell_type": "code",
      "source": [
        "n, m, z = 0, 0, 0 # pixel row, column, channel\n",
        "kl = 0          # index for key\n",
        "l = len(text)   # number of characters to encode"
      ],
      "metadata": {
        "id": "u6TlUSNCX_ov"
      },
      "execution_count": null,
      "outputs": []
    },
    {
      "cell_type": "code",
      "source": [
        "# Encrypt and embed using LSB\n",
        "for i in range(l):\n",
        "    char_val = d[text[i]] ^ d[key[kl]]\n",
        "    for bit_pos in range(8):\n",
        "        bit = (char_val >> (7 - bit_pos)) & 1\n",
        "        original_val = x_enc[n, m, z]\n",
        "        x_enc[n, m, z] = (original_val & 0XFE) | bit\n",
        "        print(f\"Embedding bit {bit} of '{text[i]}' at ({n},{m},{z}) originale:{original_val} neue:{x_enc[n,m,z]}\")\n",
        "\n",
        "        z = (z + 1) % 3\n",
        "        if z == 0:\n",
        "            m = m + 1\n",
        "            if m == x_enc.shape[1]:\n",
        "                n = n + 1\n",
        "                m = 0\n",
        "\n",
        "    kl = (kl + 1) % len(key)"
      ],
      "metadata": {
        "colab": {
          "base_uri": "https://localhost:8080/"
        },
        "id": "JVhCdx2YYGLt",
        "outputId": "c9ef3d78-2e78-4a66-c0df-98b677dc075f"
      },
      "execution_count": null,
      "outputs": [
        {
          "output_type": "stream",
          "name": "stdout",
          "text": [
            "Embedding bit 0 of 'H' at (0,0,0) originale:111 neue:110\n",
            "Embedding bit 0 of 'H' at (0,0,1) originale:115 neue:114\n",
            "Embedding bit 0 of 'H' at (0,0,2) originale:147 neue:146\n",
            "Embedding bit 0 of 'H' at (0,1,0) originale:163 neue:162\n",
            "Embedding bit 0 of 'H' at (0,1,1) originale:96 neue:96\n",
            "Embedding bit 0 of 'H' at (0,1,2) originale:59 neue:58\n",
            "Embedding bit 1 of 'H' at (0,2,0) originale:80 neue:81\n",
            "Embedding bit 1 of 'H' at (0,2,1) originale:215 neue:215\n",
            "Embedding bit 0 of 'E' at (0,2,2) originale:57 neue:56\n",
            "Embedding bit 0 of 'E' at (0,3,0) originale:226 neue:226\n",
            "Embedding bit 0 of 'E' at (0,3,1) originale:133 neue:132\n",
            "Embedding bit 0 of 'E' at (0,3,2) originale:192 neue:192\n",
            "Embedding bit 0 of 'E' at (0,4,0) originale:8 neue:8\n",
            "Embedding bit 0 of 'E' at (0,4,1) originale:83 neue:82\n",
            "Embedding bit 0 of 'E' at (0,4,2) originale:61 neue:60\n",
            "Embedding bit 0 of 'E' at (0,5,0) originale:241 neue:240\n",
            "Embedding bit 0 of 'L' at (0,5,1) originale:153 neue:152\n",
            "Embedding bit 0 of 'L' at (0,5,2) originale:135 neue:134\n",
            "Embedding bit 0 of 'L' at (0,6,0) originale:29 neue:28\n",
            "Embedding bit 1 of 'L' at (0,6,1) originale:101 neue:101\n",
            "Embedding bit 0 of 'L' at (0,6,2) originale:10 neue:10\n",
            "Embedding bit 1 of 'L' at (0,7,0) originale:113 neue:113\n",
            "Embedding bit 0 of 'L' at (0,7,1) originale:205 neue:204\n",
            "Embedding bit 1 of 'L' at (0,7,2) originale:40 neue:41\n",
            "Embedding bit 0 of 'L' at (0,8,0) originale:54 neue:54\n",
            "Embedding bit 0 of 'L' at (0,8,1) originale:91 neue:90\n",
            "Embedding bit 0 of 'L' at (0,8,2) originale:179 neue:178\n",
            "Embedding bit 0 of 'L' at (0,9,0) originale:169 neue:168\n",
            "Embedding bit 0 of 'L' at (0,9,1) originale:221 neue:220\n",
            "Embedding bit 1 of 'L' at (0,9,2) originale:124 neue:125\n",
            "Embedding bit 1 of 'L' at (1,0,0) originale:80 neue:81\n",
            "Embedding bit 1 of 'L' at (1,0,1) originale:174 neue:175\n",
            "Embedding bit 0 of 'O' at (1,0,2) originale:233 neue:232\n",
            "Embedding bit 0 of 'O' at (1,1,0) originale:117 neue:116\n",
            "Embedding bit 0 of 'O' at (1,1,1) originale:49 neue:48\n",
            "Embedding bit 0 of 'O' at (1,1,2) originale:192 neue:192\n",
            "Embedding bit 1 of 'O' at (1,2,0) originale:81 neue:81\n",
            "Embedding bit 0 of 'O' at (1,2,1) originale:210 neue:210\n",
            "Embedding bit 1 of 'O' at (1,2,2) originale:156 neue:157\n",
            "Embedding bit 0 of 'O' at (1,3,0) originale:164 neue:164\n"
          ]
        }
      ]
    },
    {
      "cell_type": "code",
      "source": [
        "# ============ DECRYPTION ============\n",
        "\n",
        "n, m, z = 0, 0, 0\n",
        "kl = 0\n",
        "decrypt = \"\"\n",
        "\n",
        "for i in range(l):  # 'l' is the length of the original text, from earlier\n",
        "    val = 0\n",
        "    for bit_pos in range(8):\n",
        "        bit = x_enc[n, m, z] & 1\n",
        "        val = (val << 1) | bit\n",
        "        print(f\"Reading bit {bit} from ({n},{m},{z})\")\n",
        "\n",
        "        z = (z + 1) % 3\n",
        "        if z == 0:\n",
        "            m = m + 1\n",
        "            if m == x_enc.shape[1]:\n",
        "                n = n + 1\n",
        "                m = 0\n",
        "\n",
        "    orig_char = c[val ^ d[key[kl]]]\n",
        "    decrypt += orig_char\n",
        "    print(f\"Decrypted byte: (val XOR d[key[kl]]) = {val ^ d[key[kl]]} -> '{orig_char}'\")\n",
        "    kl = (kl + 1) % len(key)\n",
        "\n",
        "print(f\"Decrypted text: '{decrypt}'\")\n",
        "\n",
        "# Reading bits from (0,0,0)"
      ],
      "metadata": {
        "colab": {
          "base_uri": "https://localhost:8080/"
        },
        "id": "EJabG6BxbiuH",
        "outputId": "1f4301f1-af78-4e15-b4ed-039b71a3f3cc"
      },
      "execution_count": null,
      "outputs": [
        {
          "output_type": "stream",
          "name": "stdout",
          "text": [
            "Reading bit 0 from (0,0,0)\n",
            "Reading bit 0 from (0,0,1)\n",
            "Reading bit 0 from (0,0,2)\n",
            "Reading bit 0 from (0,1,0)\n",
            "Reading bit 0 from (0,1,1)\n",
            "Reading bit 0 from (0,1,2)\n",
            "Reading bit 1 from (0,2,0)\n",
            "Reading bit 1 from (0,2,1)\n",
            "Decrypted byte: (val XOR d[key[kl]]) = 72 -> 'H'\n",
            "Reading bit 0 from (0,2,2)\n",
            "Reading bit 0 from (0,3,0)\n",
            "Reading bit 0 from (0,3,1)\n",
            "Reading bit 0 from (0,3,2)\n",
            "Reading bit 0 from (0,4,0)\n",
            "Reading bit 0 from (0,4,1)\n",
            "Reading bit 0 from (0,4,2)\n",
            "Reading bit 0 from (0,5,0)\n",
            "Decrypted byte: (val XOR d[key[kl]]) = 69 -> 'E'\n",
            "Reading bit 0 from (0,5,1)\n",
            "Reading bit 0 from (0,5,2)\n",
            "Reading bit 0 from (0,6,0)\n",
            "Reading bit 1 from (0,6,1)\n",
            "Reading bit 0 from (0,6,2)\n",
            "Reading bit 1 from (0,7,0)\n",
            "Reading bit 0 from (0,7,1)\n",
            "Reading bit 1 from (0,7,2)\n",
            "Decrypted byte: (val XOR d[key[kl]]) = 76 -> 'L'\n",
            "Reading bit 0 from (0,8,0)\n",
            "Reading bit 0 from (0,8,1)\n",
            "Reading bit 0 from (0,8,2)\n",
            "Reading bit 0 from (0,9,0)\n",
            "Reading bit 0 from (0,9,1)\n",
            "Reading bit 1 from (0,9,2)\n",
            "Reading bit 1 from (1,0,0)\n",
            "Reading bit 1 from (1,0,1)\n",
            "Decrypted byte: (val XOR d[key[kl]]) = 76 -> 'L'\n",
            "Reading bit 0 from (1,0,2)\n",
            "Reading bit 0 from (1,1,0)\n",
            "Reading bit 0 from (1,1,1)\n",
            "Reading bit 0 from (1,1,2)\n",
            "Reading bit 1 from (1,2,0)\n",
            "Reading bit 0 from (1,2,1)\n",
            "Reading bit 1 from (1,2,2)\n",
            "Reading bit 0 from (1,3,0)\n",
            "Decrypted byte: (val XOR d[key[kl]]) = 79 -> 'O'\n",
            "Decrypted text: 'HELLO'\n"
          ]
        }
      ]
    }
  ]
}